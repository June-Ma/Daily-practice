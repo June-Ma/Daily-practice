{
 "cells": [
  {
   "cell_type": "code",
   "execution_count": 3,
   "id": "05085faa",
   "metadata": {},
   "outputs": [
    {
     "name": "stdout",
     "output_type": "stream",
     "text": [
      "Negative number\n"
     ]
    }
   ],
   "source": [
    "num = float(input(\"Enter a number: \"))\n",
    "if num > 0:\n",
    "    print(\"Positive number\")\n",
    "elif num == 0:\n",
    "    print(\"Zero\")\n",
    "else:\n",
    "    print(\"Negative number\")"
   ]
  },
  {
   "cell_type": "code",
   "execution_count": 5,
   "id": "860de7cb",
   "metadata": {},
   "outputs": [
    {
     "name": "stdout",
     "output_type": "stream",
     "text": [
      "This is an odd number\n"
     ]
    }
   ],
   "source": [
    "num = int(input(\"Enter a number: \"))\n",
    "if num%2 == 0:\n",
    "    print(\"This is an even number\")\n",
    "else:\n",
    "    print(\"This is an odd number\")"
   ]
  },
  {
   "cell_type": "code",
   "execution_count": 13,
   "id": "152baa9a",
   "metadata": {},
   "outputs": [
    {
     "name": "stdout",
     "output_type": "stream",
     "text": [
      "177776 is a leap year\n"
     ]
    }
   ],
   "source": [
    "year = int(input(\"Enter a year: \"))\n",
    "if (year % 400 == 0) and (year % 100 == 0):\n",
    "    print(\"{0} is a leap year\" .format(year))\n",
    "elif (year % 4 == 0) and (year % 100 != 0):\n",
    "    print(\"{0} is a leap year\" .format(year))\n",
    "else:\n",
    "    print(\"{0} is not a leap year\" .format(year))"
   ]
  },
  {
   "cell_type": "code",
   "execution_count": 23,
   "id": "82081942",
   "metadata": {},
   "outputs": [
    {
     "name": "stdout",
     "output_type": "stream",
     "text": [
      "928, is not a prime number\n"
     ]
    }
   ],
   "source": [
    "num = int(input(\"Enter a number: \"))\n",
    "flag = False\n",
    "if num == 1:\n",
    "    print(f\"{num}, is not a prime number\")\n",
    "elif num > 1:\n",
    "    for i in range(2, num): \n",
    "        if (num % i) == 0:\n",
    "            flag = True\n",
    "            break\n",
    "if flag:\n",
    "    print(f\"{num}, is not a prime number\")\n",
    "else:\n",
    "    print(f\"{num}, is a prime number\")"
   ]
  },
  {
   "cell_type": "code",
   "execution_count": 27,
   "id": "c92d9561",
   "metadata": {},
   "outputs": [
    {
     "name": "stdout",
     "output_type": "stream",
     "text": [
      "Prime numbers between 1 and 10 are:\n",
      "2\n",
      "3\n",
      "5\n",
      "7\n"
     ]
    }
   ],
   "source": [
    "lower = 1\n",
    "upper = 10\n",
    "\n",
    "print(\"Prime numbers between\", lower, \"and\", upper, \"are:\")\n",
    "\n",
    "for num in range (lower, upper+1):\n",
    "    if num > 1:\n",
    "        for i in range(2, num):\n",
    "            if(num % i) == 0:\n",
    "                break\n",
    "        else:\n",
    "            print(num)\n"
   ]
  },
  {
   "cell_type": "code",
   "execution_count": 30,
   "id": "8779f0ec",
   "metadata": {},
   "outputs": [],
   "source": [
    "num = int(input(\"Enter a number: \"))\n",
    "factorial = 1\n",
    "if num < 0:\n",
    "    print(\"Factirial does not exist for negative numbers\")\n",
    "elif num == 0:\n",
    "    for i in range(1, num+1):\n",
    "        factorial = factorial*i\n",
    "    print(f'The factorial of {num} is {factorial}')"
   ]
  },
  {
   "cell_type": "code",
   "execution_count": 44,
   "id": "a0ef55be",
   "metadata": {},
   "outputs": [
    {
     "name": "stdout",
     "output_type": "stream",
     "text": [
      "       1   2   3   4   5   6   7   8   9  10  11  12\n",
      "    ------------------------------------------------\n",
      " 1 |   1   2   3   4   5   6   7   8   9  10  11  12\n",
      " 2 |   2   4   6   8  10  12  14  16  18  20  22  24\n",
      " 3 |   3   6   9  12  15  18  21  24  27  30  33  36\n",
      " 4 |   4   8  12  16  20  24  28  32  36  40  44  48\n",
      " 5 |   5  10  15  20  25  30  35  40  45  50  55  60\n",
      " 6 |   6  12  18  24  30  36  42  48  54  60  66  72\n",
      " 7 |   7  14  21  28  35  42  49  56  63  70  77  84\n",
      " 8 |   8  16  24  32  40  48  56  64  72  80  88  96\n",
      " 9 |   9  18  27  36  45  54  63  72  81  90  99 108\n",
      "10 |  10  20  30  40  50  60  70  80  90 100 110 120\n",
      "11 |  11  22  33  44  55  66  77  88  99 110 121 132\n",
      "12 |  12  24  36  48  60  72  84  96 108 120 132 144\n"
     ]
    }
   ],
   "source": [
    "num = int(input(\"Display multiplication table of: \"))\n",
    "print(\"    \", end=\"\")\n",
    "for j in range(1, num + 1):\n",
    "    print(f\"{j:4}\", end=\"\")\n",
    "print()\n",
    "print(\"    \" + \"-\" * (num * 4))\n",
    "for i in range(1, num+1):\n",
    "    print(f\"{i:2} |\", end=\"\")  # Row label\n",
    "    for j in range(1, num + 1):\n",
    "        print(f\"{i*j:4}\", end=\"\")\n",
    "    print()\n",
    "    "
   ]
  },
  {
   "cell_type": "code",
   "execution_count": 47,
   "id": "1cb8ab89",
   "metadata": {},
   "outputs": [
    {
     "name": "stdout",
     "output_type": "stream",
     "text": [
      "Fibonacci sequence:\n",
      "0\n",
      "1\n",
      "1\n"
     ]
    }
   ],
   "source": [
    "nterms = int(input(\"How many terms? \"))\n",
    "# first two terms\n",
    "n1, n2 = 0, 1\n",
    "count = 0\n",
    "# check if the number of terms is valid\n",
    "if nterms <= 0:\n",
    "    print(\"Please enter a positive integer\")\n",
    "# if there is only one term, return n1\n",
    "elif nterms == 1:\n",
    "    print(\"Fibonacci sequence upto\",nterms,\":\")\n",
    "    print(n1)\n",
    "# generate fibonacci sequence\n",
    "else:\n",
    "    print(\"Fibonacci sequence:\")\n",
    "    while count < nterms:\n",
    "        print(n1)\n",
    "        nth = n1 + n2\n",
    "        # update values\n",
    "        n1 = n2\n",
    "        n2 = nth\n",
    "        count += 1"
   ]
  },
  {
   "cell_type": "code",
   "execution_count": 49,
   "id": "6c55b90b",
   "metadata": {},
   "outputs": [
    {
     "name": "stdout",
     "output_type": "stream",
     "text": [
      "2194 is not an Armstrong number.\n"
     ]
    }
   ],
   "source": [
    "num = int(input(\"Enter a number: \"))\n",
    "# Calculate the number of digits in num\n",
    "num_str = str(num)\n",
    "num_digits = len(num_str)\n",
    "# Initialize variables\n",
    "sum_of_powers = 0\n",
    "temp_num = num\n",
    "# Calculate the sum of digits raised to the power of num_digits\n",
    "while temp_num > 0:\n",
    "    digit = temp_num % 10\n",
    "    sum_of_powers += digit ** num_digits\n",
    "    temp_num //= 10\n",
    "# Check if it's an Armstrong number\n",
    "if sum_of_powers == num:\n",
    "    print(f\"{num} is an Armstrong number.\")\n",
    "else:\n",
    "    print(f\"{num} is not an Armstrong number.\")"
   ]
  },
  {
   "cell_type": "code",
   "execution_count": 55,
   "id": "1b5f27c3",
   "metadata": {},
   "outputs": [],
   "source": [
    "lower = int(input(\"Enter the lower limit of the interval: \"))\n",
    "upper = int(input(\"Enter the upper limit of the interval: \"))\n",
    "\n",
    "for num in range(lower, upper + 1): # Iterate through the numbers i\n",
    "    order = len(str(num)) # Find the number of digits in 'num'\n",
    "    temp_num = num\n",
    "    sum = 0\n",
    "    \n",
    "while temp_num > 0:\n",
    "    digit = temp_num % 10\n",
    "    sum += digit ** order\n",
    "    temp_num //= 10\n",
    "# Check if 'num' is an Armstrong number\n",
    "if num == sum:\n",
    "    print(num)"
   ]
  }
 ],
 "metadata": {
  "kernelspec": {
   "display_name": "datasci",
   "language": "python",
   "name": "python3"
  },
  "language_info": {
   "codemirror_mode": {
    "name": "ipython",
    "version": 3
   },
   "file_extension": ".py",
   "mimetype": "text/x-python",
   "name": "python",
   "nbconvert_exporter": "python",
   "pygments_lexer": "ipython3",
   "version": "3.13.5"
  }
 },
 "nbformat": 4,
 "nbformat_minor": 5
}
