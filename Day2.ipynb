{
 "cells": [
  {
   "cell_type": "code",
   "execution_count": 1,
   "id": "c89691d2",
   "metadata": {},
   "outputs": [
    {
     "name": "stdout",
     "output_type": "stream",
     "text": [
      "Hello Python\n"
     ]
    }
   ],
   "source": [
    "print(\"Hello Python\")"
   ]
  },
  {
   "cell_type": "code",
   "execution_count": 3,
   "id": "268c7b0e",
   "metadata": {},
   "outputs": [
    {
     "name": "stdout",
     "output_type": "stream",
     "text": [
      "The sum: 4.0 + 5.0 = 9.0\n"
     ]
    }
   ],
   "source": [
    "#Addition\n",
    "num1 = float(input(\"Enter the first number for addition: \"))\n",
    "num2 = float(input(\"Enter the second number for addition: \"))\n",
    "sum_result = num1 + num2\n",
    "print(f\"The sum: {num1} + {num2} = {sum_result}\")"
   ]
  },
  {
   "cell_type": "code",
   "execution_count": 5,
   "id": "7e1a548d",
   "metadata": {},
   "outputs": [
    {
     "name": "stdout",
     "output_type": "stream",
     "text": [
      "The subtraction: 7.0 - 18.0 = -11.0\n"
     ]
    }
   ],
   "source": [
    "#Subtraction\n",
    "num1 = float(input(\"Enter the first number for subtraction:\"))\n",
    "num2 = float(input(\"Enter the second number for subtraction:\"))\n",
    "sub_result = num1 - num2\n",
    "print(f\"The subtraction: {num1} - {num2} = {sub_result}\")"
   ]
  },
  {
   "cell_type": "code",
   "execution_count": 6,
   "id": "bc1ca8f2",
   "metadata": {},
   "outputs": [
    {
     "name": "stdout",
     "output_type": "stream",
     "text": [
      "The multiplication: 78.0 * 109.0 = 8502.0\n"
     ]
    }
   ],
   "source": [
    "#Multiplication\n",
    "num1 = float(input(\"Enter the first number for multiplication:\"))\n",
    "num2 = float(input(\"Enter the second number for multiplication:\"))\n",
    "mul_result = num1 * num2\n",
    "print(f\"The multiplication: {num1} * {num2} = {mul_result}\")"
   ]
  },
  {
   "cell_type": "code",
   "execution_count": 7,
   "id": "203ce017",
   "metadata": {},
   "outputs": [
    {
     "name": "stdout",
     "output_type": "stream",
     "text": [
      "The division: 83.0 / 7.0 = 11.857142857142858\n"
     ]
    }
   ],
   "source": [
    "#Division\n",
    "num1 = float(input(\"Enter the first number for division:\"))\n",
    "num2 = float(input(\"Enter the second number for division:\"))\n",
    "if num2 == 0:\n",
    "    print(\"Error: Division by zero is not allowed\")\n",
    "else:\n",
    "    div_result = num1 / num2\n",
    "print(f\"The division: {num1} / {num2} = {div_result}\")"
   ]
  },
  {
   "cell_type": "code",
   "execution_count": 10,
   "id": "d1749f68",
   "metadata": {},
   "outputs": [
    {
     "name": "stdout",
     "output_type": "stream",
     "text": [
      "The area of the triangle is: 920.0\n"
     ]
    }
   ],
   "source": [
    "#Input the base and height from the user\n",
    "base = float(input(\"Enter the length of the base of the triangle: \"))\n",
    "height = float(input(\"Enter the height of the triangle: \"))\n",
    "#Calculate the area of the triangle\n",
    "area = 0.5 * base * height\n",
    "#Display the result\n",
    "print(f\"The area of the triangle is: {area}\")"
   ]
  },
  {
   "cell_type": "code",
   "execution_count": 11,
   "id": "6a97c31e",
   "metadata": {},
   "outputs": [
    {
     "name": "stdout",
     "output_type": "stream",
     "text": [
      "Original values: a = 7, b = 2\n",
      "Swapped values: a = 2, b = 7\n"
     ]
    }
   ],
   "source": [
    "#input two variables\n",
    "a = input(\"Enter the value of the first variable (a): \")\n",
    "b = input(\"Enter the value of the second variable (b): \")\n",
    "#Display the original values\n",
    "print(f\"Original values: a = {a}, b = {b}\")\n",
    "#Swap the values using a temporary variable\n",
    "temp = a\n",
    "a = b\n",
    "b = temp\n",
    "print(f\"Swapped values: a = {a}, b = {b}\")"
   ]
  },
  {
   "cell_type": "code",
   "execution_count": 51,
   "id": "eea67c3b",
   "metadata": {},
   "outputs": [
    {
     "name": "stdout",
     "output_type": "stream",
     "text": [
      "Random number: 969\n"
     ]
    }
   ],
   "source": [
    "import random\n",
    "print(f\"Random number: {random.randint(1,1000)}\")"
   ]
  }
 ],
 "metadata": {
  "kernelspec": {
   "display_name": "datasci",
   "language": "python",
   "name": "python3"
  },
  "language_info": {
   "codemirror_mode": {
    "name": "ipython",
    "version": 3
   },
   "file_extension": ".py",
   "mimetype": "text/x-python",
   "name": "python",
   "nbconvert_exporter": "python",
   "pygments_lexer": "ipython3",
   "version": "3.13.5"
  }
 },
 "nbformat": 4,
 "nbformat_minor": 5
}
