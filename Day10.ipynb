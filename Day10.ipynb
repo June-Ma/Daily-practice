{
 "cells": [
  {
   "cell_type": "code",
   "execution_count": 15,
   "id": "774826d2",
   "metadata": {},
   "outputs": [
    {
     "name": "stdout",
     "output_type": "stream",
     "text": [
      "In Python, we say: exit()\n"
     ]
    }
   ],
   "source": [
    "python_dictionary = {\n",
    "    \"goodbye\": \"exit()\",\n",
    "    \"bye\": \"exit()\",\n",
    "    \"see you\": \"exit()\",\n",
    "    \"factorial\": \"def fact(n): return 1 if n==0 else n*fact(n-1)\"\n",
    "}\n",
    "\n",
    "english = input(\"Say something in English: \").lower()\n",
    "\n",
    "if english in python_dictionary:\n",
    "    print(\"In Python, we say:\", python_dictionary[english])\n",
    "else:\n",
    "    # default behaviour: just print whatever the user typed\n",
    "    print(f'In Python, we say: print(\"{english}\")')\n"
   ]
  }
 ],
 "metadata": {
  "kernelspec": {
   "display_name": "datasci",
   "language": "python",
   "name": "python3"
  },
  "language_info": {
   "codemirror_mode": {
    "name": "ipython",
    "version": 3
   },
   "file_extension": ".py",
   "mimetype": "text/x-python",
   "name": "python",
   "nbconvert_exporter": "python",
   "pygments_lexer": "ipython3",
   "version": "3.13.5"
  }
 },
 "nbformat": 4,
 "nbformat_minor": 5
}
