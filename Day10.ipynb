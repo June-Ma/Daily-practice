{
 "cells": [
  {
   "cell_type": "code",
   "execution_count": 13,
   "id": "774826d2",
   "metadata": {},
   "outputs": [
    {
     "name": "stdout",
     "output_type": "stream",
     "text": [
      "In Python, we say: print('I ❤️ you')\n"
     ]
    }
   ],
   "source": [
    "python_dictionary = {\n",
    "    # Greetings & Basics\n",
    "    \"hello\": \"print('Hello!')\",\n",
    "    \"hi\": \"print('Hey there!')\",\n",
    "    \"goodbye\": \"exit()\",\n",
    "    \"thanks\": \"print('You are welcome!')\",\n",
    "    \"i love you\": \"print('I ❤️ you')\",\n",
    "    \"love\": \"print('❤️')\",\n",
    "    \"hate\": \"print('💀')\",\n",
    "    \n",
    "    # Numbers & Math\n",
    "    \"add\": \"def add(x, y): return x + y\",\n",
    "    \"subtract\": \"def subtract(x, y): return x - y\",\n",
    "    \"multiply\": \"def multiply(x, y): return x * y\",\n",
    "    \"divide\": \"def divide(x, y): return x / y if y != 0 else 'Error: divide by zero'\",\n",
    "    \"square\": \"lambda x: x**2\",\n",
    "    \"cube\": \"lambda x: x**3\",\n",
    "    \"factorial\": \"def fact(n): return 1 if n==0 else n*fact(n-1)\",\n",
    "    \"fibonacci\": \"def fib(n): return [0,1][:n] if n<2 else [0,1]+[sum([fib(i)[-1],fib(i)[-2]]) for i in range(2,n)]\",\n",
    "    \"even or odd\": \"if num % 2 == 0: print('Even') else: print('Odd')\",\n",
    "\n",
    "    # Loops & Conditions\n",
    "    \"loop\": \"for i in range(5): print(i)\",\n",
    "    \"countdown\": \"for i in range(10,0,-1): print(i)\",\n",
    "    \"condition\": \"if condition: print('True') else: print('False')\",\n",
    "    \"while\": \"while True: print('infinite loop!')\",\n",
    "\n",
    "    # Strings\n",
    "    \"reverse\": \"s[::-1]\",\n",
    "    \"uppercase\": \"s.upper()\",\n",
    "    \"lowercase\": \"s.lower()\",\n",
    "    \"capitalize\": \"s.capitalize()\",\n",
    "    \"length\": \"len(s)\",\n",
    "\n",
    "    # Data Structures\n",
    "    \"list\": \"[1, 2, 3, 4, 5]\",\n",
    "    \"tuple\": \"(1, 2, 3, 4, 5)\",\n",
    "    \"set\": \"{1, 2, 3, 4, 5}\",\n",
    "    \"dictionary\": \"{'a': 1, 'b': 2}\",\n",
    "    \"append\": \"my_list.append(item)\",\n",
    "    \"remove\": \"my_list.remove(item)\",\n",
    "\n",
    "    # Random & Fun\n",
    "    \"random\": \"import random; random.randint(1,100)\",\n",
    "    \"time\": \"import time; time.sleep(1)\",\n",
    "    \"date\": \"import datetime; datetime.date.today()\",\n",
    "    \"joke\": \"print('Why do programmers prefer dark mode? Because light attracts bugs!')\",\n",
    "    \"cat\": \"print('🐱 meow')\",\n",
    "    \"dog\": \"print('🐶 woof')\",\n",
    "    \"turtle\": \"print('🐢 slow and steady')\",\n",
    "    \"snake\": \"print('🐍 slithers around')\",\n",
    "    \"python\": \"print('🐍 slithers around')\"\n",
    "}\n",
    "\n",
    "\n",
    "english = input(\"Say something in English: \").lower()\n",
    "\n",
    "if english in python_dictionary:\n",
    "    print(\"In Python, we say:\", python_dictionary[english])\n",
    "else:\n",
    "    # default behaviour: just print whatever the user typed\n",
    "    print(f'In Python, we say: print(\"{english}\")')"
   ]
  }
 ],
 "metadata": {
  "kernelspec": {
   "display_name": "datasci",
   "language": "python",
   "name": "python3"
  },
  "language_info": {
   "codemirror_mode": {
    "name": "ipython",
    "version": 3
   },
   "file_extension": ".py",
   "mimetype": "text/x-python",
   "name": "python",
   "nbconvert_exporter": "python",
   "pygments_lexer": "ipython3",
   "version": "3.13.5"
  }
 },
 "nbformat": 4,
 "nbformat_minor": 5
}
