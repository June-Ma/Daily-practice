{
 "cells": [
  {
   "cell_type": "code",
   "execution_count": 7,
   "id": "774826d2",
   "metadata": {},
   "outputs": [
    {
     "name": "stdout",
     "output_type": "stream",
     "text": [
      "In Python, we say: if num % 2 == 0: print('Even') else: print('Odd')\n"
     ]
    }
   ],
   "source": [
    "python_dictionary = {\n",
    "    \"hello\": \"print('Hello')\",\n",
    "    \"goodbye\": \"exit()\",\n",
    "    \"add numbers\": \"def add(x, y): return x + y\",\n",
    "    \"even or odd\": \"if num % 2 == 0: print('Even') else: print('Odd')\",\n",
    "    \"factorial\": \"def fact(n): return 1 if n==0 else n*fact(n-1)\"\n",
    "}\n",
    "\n",
    "english = input(\"Say something in English: \").lower()\n",
    "\n",
    "translation = python_dictionary.get(english, \"Sorry, I don’t know that in Python yet.\")\n",
    "print(\"In Python, we say:\", translation)"
   ]
  }
 ],
 "metadata": {
  "kernelspec": {
   "display_name": "datasci",
   "language": "python",
   "name": "python3"
  },
  "language_info": {
   "codemirror_mode": {
    "name": "ipython",
    "version": 3
   },
   "file_extension": ".py",
   "mimetype": "text/x-python",
   "name": "python",
   "nbconvert_exporter": "python",
   "pygments_lexer": "ipython3",
   "version": "3.13.5"
  }
 },
 "nbformat": 4,
 "nbformat_minor": 5
}
