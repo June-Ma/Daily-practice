{
 "cells": [
  {
   "cell_type": "code",
   "execution_count": 1,
   "id": "86098cb1",
   "metadata": {},
   "outputs": [
    {
     "name": "stdout",
     "output_type": "stream",
     "text": [
      "The smallest number in the list is: -45\n"
     ]
    }
   ],
   "source": [
    "numbers = [30, 10, -45, 5, 20]\n",
    "\n",
    "minimum = numbers[0]\n",
    "\n",
    "for i in numbers:\n",
    "    if i < minimum:\n",
    "        minimum = i\n",
    "\n",
    "print(\"The smallest number in the list is:\", minimum)"
   ]
  },
  {
   "cell_type": "code",
   "execution_count": 2,
   "id": "3ad5c559",
   "metadata": {},
   "outputs": [
    {
     "name": "stdout",
     "output_type": "stream",
     "text": [
      "The second largest number in the list is: 30\n"
     ]
    }
   ],
   "source": [
    "numbers = [30, 10, 45, 5, 20]\n",
    "\n",
    "numbers.sort(reverse=True)\n",
    "\n",
    "if len(numbers) >= 2:\n",
    "    second_largest = numbers[1]\n",
    "    print(\"The second largest number in the list is:\", second_largest)\n",
    "else:\n",
    "    print(\"The list does not contain a second largest number.\")"
   ]
  },
  {
   "cell_type": "code",
   "execution_count": 3,
   "id": "45bfd2f3",
   "metadata": {},
   "outputs": [
    {
     "name": "stdout",
     "output_type": "stream",
     "text": [
      "The largest number in the list is: 30\n"
     ]
    }
   ],
   "source": [
    "numbers = [30, 10, -45, 5, 20]\n",
    "\n",
    "minimum = numbers[0]\n",
    "\n",
    "for i in numbers:\n",
    "    if i > minimum:\n",
    "        minimum = i\n",
    "\n",
    "print(\"The largest number in the list is:\", minimum)"
   ]
  },
  {
   "cell_type": "code",
   "execution_count": 5,
   "id": "866ae587",
   "metadata": {},
   "outputs": [
    {
     "name": "stdout",
     "output_type": "stream",
     "text": [
      "The 3 largest elements in the list are: [345, 100, 98]\n"
     ]
    }
   ],
   "source": [
    "def find_n_largest_elements(lst, n):\n",
    "\n",
    "    sorted_lst = sorted(lst, reverse=True)\n",
    "\n",
    "    largest_elements = sorted_lst[:n]\n",
    "    return largest_elements\n",
    "\n",
    "numbers = [30, 10, 45, 5, 20, 50, 15, 3, 345, 54, 67, 87, 98, 100, 34]\n",
    "\n",
    "N = int(input(\"N = \" ))\n",
    "\n",
    "result = find_n_largest_elements(numbers, N)\n",
    "\n",
    "print(f\"The {N} largest elements in the list are:\", result)"
   ]
  },
  {
   "cell_type": "code",
   "execution_count": 6,
   "id": "6b70def9",
   "metadata": {},
   "outputs": [
    {
     "name": "stdout",
     "output_type": "stream",
     "text": [
      "Even numbers in the list: [2, 4, 6, 8, 10]\n"
     ]
    }
   ],
   "source": [
    "numbers = [1, 2, 3, 4, 5, 6, 7, 8, 9, 10]\n",
    "\n",
    "even_numbers = [num for num in numbers if num % 2 == 0]\n",
    "\n",
    "print(\"Even numbers in the list:\", even_numbers)"
   ]
  },
  {
   "cell_type": "code",
   "execution_count": 7,
   "id": "52d1d79b",
   "metadata": {},
   "outputs": [
    {
     "name": "stdout",
     "output_type": "stream",
     "text": [
      "Odd numbers in the list: [1, 3, 5, 7, 9]\n"
     ]
    }
   ],
   "source": [
    "numbers = [1, 2, 3, 4, 5, 6, 7, 8, 9, 10]\n",
    "\n",
    "even_numbers = [num for num in numbers if num % 2 != 0]\n",
    "\n",
    "print(\"Odd numbers in the list:\", even_numbers)"
   ]
  },
  {
   "cell_type": "code",
   "execution_count": 8,
   "id": "6eb1104e",
   "metadata": {},
   "outputs": [
    {
     "name": "stdout",
     "output_type": "stream",
     "text": [
      "List after removing empty lists: [[1, 2, 3], [4, 5], [6, 7, 8]]\n"
     ]
    }
   ],
   "source": [
    "list_of_lists = [[1, 2, 3], [], [4, 5], [], [6, 7, 8], []]\n",
    "\n",
    "filtered_list = [i for i in list_of_lists if i]\n",
    "\n",
    "print(\"List after removing empty lists:\", filtered_list)"
   ]
  },
  {
   "cell_type": "code",
   "execution_count": 9,
   "id": "a8973334",
   "metadata": {},
   "outputs": [
    {
     "name": "stdout",
     "output_type": "stream",
     "text": [
      "[1, 2, 3, 4, 5]\n"
     ]
    }
   ],
   "source": [
    "original_list = [1, 2, 3, 4, 5]\n",
    "cloned_list = original_list[:]\n",
    "print(cloned_list)"
   ]
  },
  {
   "cell_type": "code",
   "execution_count": 10,
   "id": "8985000b",
   "metadata": {},
   "outputs": [
    {
     "name": "stdout",
     "output_type": "stream",
     "text": [
      "The element 2 appears 3 times in the list\n"
     ]
    }
   ],
   "source": [
    "def count_occurrences(l, element):\n",
    "    count = l.count(element)\n",
    "    return count\n",
    "# Example usage:\n",
    "my_list = [1, 2, 3, 4, 2, 5, 2, 3, 4, 6, 5]\n",
    "element_to_count = 2\n",
    "occurrences = count_occurrences(my_list, element_to_count)\n",
    "print(f\"The element {element_to_count} appears {occurrences} times in the list\")"
   ]
  },
  {
   "cell_type": "code",
   "execution_count": 11,
   "id": "b7e684d8",
   "metadata": {},
   "outputs": [
    {
     "name": "stdout",
     "output_type": "stream",
     "text": [
      "Words longer than 5 characters: ['banana', 'cherry', 'elderberry', 'dragon fruit']\n"
     ]
    }
   ],
   "source": [
    "def find_words(words, k):\n",
    "\n",
    "    result = []\n",
    "\n",
    "    for i in words:\n",
    "\n",
    "        if len(i) > k:\n",
    "\n",
    "            result.append(i)\n",
    "    return result\n",
    "\n",
    "word_list = [\"apple\", \"banana\", \"cherry\", \"date\", \"elderberry\", \"dragon fruit\"]\n",
    "k = 5\n",
    "long_words = find_words(word_list, k)\n",
    "print(f\"Words longer than {k} characters: {long_words}\")"
   ]
  },
  {
   "cell_type": "code",
   "execution_count": 12,
   "id": "dd18f85b",
   "metadata": {},
   "outputs": [
    {
     "name": "stdout",
     "output_type": "stream",
     "text": [
      "Original String: Hello, wWorld!\n",
      "String after removing 7th character : Hello, World!\n"
     ]
    }
   ],
   "source": [
    "def remove_char(input_str, i):\n",
    "\n",
    "    if i < 0 or i >= len(input_str):\n",
    "        print(f\"Invalid index {i}. The string remains unchanged.\")\n",
    "        return input_str\n",
    "\n",
    "    result_str = input_str[:i] + input_str[i + 1:]\n",
    "    return result_str\n",
    "\n",
    "input_str = \"Hello, wWorld!\"\n",
    "i = 7 \n",
    "\n",
    "new_str = remove_char(input_str, i)\n",
    "print(f\"Original String: {input_str}\")\n",
    "print(f\"String after removing {i}th character : {new_str}\")"
   ]
  },
  {
   "cell_type": "code",
   "execution_count": 13,
   "id": "a644a7d0",
   "metadata": {},
   "outputs": [
    {
     "name": "stdout",
     "output_type": "stream",
     "text": [
      "Original String: Python program to split and join a string\n",
      "List of split Words: ['Python', 'program', 'to', 'split', 'and', 'join', 'a', 'string']\n",
      "Joined String: Python program to split and join a string\n"
     ]
    }
   ],
   "source": [
    "input_str = \"Python program to split and join a string\"\n",
    "word_list = input_str.split() \n",
    "\n",
    "separator = \" \" \n",
    "output_str = separator.join(word_list)\n",
    "\n",
    "print(\"Original String:\", input_str)\n",
    "print(\"List of split Words:\", word_list)\n",
    "print(\"Joined String:\", output_str)"
   ]
  },
  {
   "cell_type": "code",
   "execution_count": 14,
   "id": "fe6e53ae",
   "metadata": {},
   "outputs": [
    {
     "name": "stdout",
     "output_type": "stream",
     "text": [
      "'1001110' is a binary string.\n"
     ]
    }
   ],
   "source": [
    "def is_binary_str(input_str):\n",
    "\n",
    "    for i in input_str:\n",
    "\n",
    "        if i not in '01':\n",
    "            return False \n",
    "    return True \n",
    "\n",
    "input_str = \"1001110\"\n",
    "\n",
    "if is_binary_str(input_str):\n",
    "    print(f\"'{input_str}' is a binary string.\")\n",
    "else:\n",
    "    print(f\"'{input_str}' is not a binary string.\")"
   ]
  },
  {
   "cell_type": "code",
   "execution_count": 15,
   "id": "cef985e1",
   "metadata": {},
   "outputs": [
    {
     "name": "stdout",
     "output_type": "stream",
     "text": [
      "Uncommon words: ['second', 'first']\n"
     ]
    }
   ],
   "source": [
    "def uncommon_words(str1, str2):\n",
    "\n",
    "    words1 = set(str1.split())\n",
    "    words2 = set(str2.split())\n",
    "\n",
    "    uncommon_words_set = words1.symmetric_difference(words2)\n",
    "\n",
    "    uncommon_words_list = list(uncommon_words_set)\n",
    "    \n",
    "    return uncommon_words_list\n",
    "\n",
    "string1 = \"This is the first string\"\n",
    "string2 = \"This is the second string\"\n",
    "\n",
    "uncommon = uncommon_words(string1, string2)\n",
    "\n",
    "print(\"Uncommon words:\", uncommon)"
   ]
  },
  {
   "cell_type": "code",
   "execution_count": 16,
   "id": "a12e0a41",
   "metadata": {},
   "outputs": [
    {
     "name": "stdout",
     "output_type": "stream",
     "text": [
      "Duplicate characters: ['s', 'h', 'a']\n"
     ]
    }
   ],
   "source": [
    "def find_duplicates(input_str):\n",
    "\n",
    "    char_count = {}\n",
    "\n",
    "    duplicates = []\n",
    "\n",
    "    for i in input_str:\n",
    "\n",
    "        if i in char_count:\n",
    "            char_count[i] += 1\n",
    "        else:\n",
    "            char_count[i] = 1\n",
    "\n",
    "    for i, count in char_count.items():\n",
    "        if count > 1:\n",
    "            duplicates.append(i)\n",
    "    return duplicates\n",
    "\n",
    "input_string = \"piyush sharma\"\n",
    "\n",
    "duplicate_chars = find_duplicates(input_string)\n",
    "\n",
    "print(\"Duplicate characters:\", duplicate_chars)"
   ]
  },
  {
   "cell_type": "code",
   "execution_count": 17,
   "id": "ba01c6e7",
   "metadata": {},
   "outputs": [
    {
     "name": "stdout",
     "output_type": "stream",
     "text": [
      "The string does not contain special characters.\n"
     ]
    }
   ],
   "source": [
    "import re\n",
    "\n",
    "def check_special_char(in_str):\n",
    "\n",
    "    pattern = r'[!@#$%^&*()_+{}\\[\\]:;<>,.?~\\\\\\/\\'\"\\-=]'\n",
    "\n",
    "    if re.search(pattern, in_str):\n",
    "        return True\n",
    "    else:\n",
    "        return False\n",
    "\n",
    "input_string = str(input(\"Enter a string: \"))\n",
    "\n",
    "contains_special = check_special_char(input_string)\n",
    "\n",
    "if contains_special:\n",
    "    print(\"The string contains special characters.\")\n",
    "else:\n",
    "    print(\"The string does not contain special characters.\")"
   ]
  },
  {
   "cell_type": "code",
   "execution_count": 18,
   "id": "b2da6725",
   "metadata": {},
   "outputs": [
    {
     "name": "stdout",
     "output_type": "stream",
     "text": [
      "Unique values in the dictionary: [10, 20, 30]\n"
     ]
    }
   ],
   "source": [
    "my_dict = {\n",
    "    'a': 10,\n",
    "    'b': 20,\n",
    "    'c': 10,\n",
    "    'd': 30,\n",
    "    'e': 20\n",
    "}\n",
    "\n",
    "uni_val = set()\n",
    "\n",
    "for i in my_dict.values():\n",
    "    uni_val.add(i)\n",
    "\n",
    "unique_values_list = list(uni_val)\n",
    "\n",
    "print(\"Unique values in the dictionary:\", unique_values_list)"
   ]
  },
  {
   "cell_type": "code",
   "execution_count": null,
   "id": "79e98f66",
   "metadata": {},
   "outputs": [],
   "source": [
    "my_dict = {\n",
    "    'a': 10,\n",
    "    'b': 20,\n",
    "    'c': 30,\n",
    "    'd': 40,\n",
    "    'e': 50\n",
    "}\n",
    "\n",
    "total_sum = 0\n",
    "\n",
    "for i in my_dict.values():\n",
    "    total_sum += i\n",
    "\n",
    "print(\"Sum of all items in the dictionary:\", total_sum)"
   ]
  },
  {
   "cell_type": "code",
   "execution_count": 19,
   "id": "2b75dbdf",
   "metadata": {},
   "outputs": [
    {
     "name": "stdout",
     "output_type": "stream",
     "text": [
      "Merged Dictionary (using update()): {'a': 1, 'b': 2, 'c': 3, 'd': 4}\n"
     ]
    }
   ],
   "source": [
    "dict1 = {'a': 1, 'b': 2}\n",
    "dict2 = {'c': 3, 'd': 4}\n",
    "\n",
    "dict1.update(dict2)\n",
    "\n",
    "print(\"Merged Dictionary (using update()):\", dict1)"
   ]
  },
  {
   "cell_type": "code",
   "execution_count": 20,
   "id": "cae5ed23",
   "metadata": {},
   "outputs": [
    {
     "name": "stdout",
     "output_type": "stream",
     "text": [
      "Flat Dictionary: {'a': 1, 'b': 2, 'c': 3, 'd': 4}\n"
     ]
    }
   ],
   "source": [
    "key_values_list = [('a', 1), ('b', 2), ('c', 3), ('d', 4)]\n",
    "\n",
    "flat_dict = {}\n",
    "\n",
    "for key, value in key_values_list:\n",
    "    flat_dict[key] = value\n",
    "\n",
    "print(\"Flat Dictionary:\", flat_dict)"
   ]
  },
  {
   "cell_type": "code",
   "execution_count": 21,
   "id": "2a123c9f",
   "metadata": {},
   "outputs": [
    {
     "name": "stdout",
     "output_type": "stream",
     "text": [
      "Updated OrderedDict: OrderedDict({'a': 1, 'b': 2, 'c': 3, 'd': 4})\n"
     ]
    }
   ],
   "source": [
    "from collections import OrderedDict\n",
    "\n",
    "ordered_dict = OrderedDict([('b', 2), ('c', 3), ('d', 4)])\n",
    "\n",
    "new_item = ('a', 1)\n",
    "\n",
    "new_ordered_dict = OrderedDict([new_item])\n",
    "\n",
    "new_ordered_dict.update(ordered_dict)\n",
    "\n",
    "print(\"Updated OrderedDict:\", new_ordered_dict)"
   ]
  },
  {
   "cell_type": "code",
   "execution_count": 22,
   "id": "9e42d120",
   "metadata": {},
   "outputs": [
    {
     "name": "stdout",
     "output_type": "stream",
     "text": [
      "The order of characters in the input string matches the reference string\n"
     ]
    }
   ],
   "source": [
    "from collections import OrderedDict\n",
    "\n",
    "def check_order(string, reference):\n",
    "\n",
    "    string_dict = OrderedDict.fromkeys(string)\n",
    "    reference_dict = OrderedDict.fromkeys(reference)\n",
    "\n",
    "    return string_dict == reference_dict\n",
    "\n",
    "input_string = \"hello world\"\n",
    "reference_string = \"helo wrd\"\n",
    "\n",
    "if check_order(input_string, reference_string):\n",
    "    print(\"The order of characters in the input string matches the reference string\")\n",
    "else:\n",
    "    print(\"The order of characters in the input string does not match the reference string\")"
   ]
  },
  {
   "cell_type": "code",
   "execution_count": 23,
   "id": "e6f2d6ca",
   "metadata": {},
   "outputs": [
    {
     "name": "stdout",
     "output_type": "stream",
     "text": [
      "Sorted by keys:\n",
      "apple: 3\n",
      "banana: 1\n",
      "cherry: 2\n",
      "date: 4\n"
     ]
    }
   ],
   "source": [
    "sample_dict = {'apple': 3, 'banana': 1, 'cherry': 2, 'date': 4}\n",
    "\n",
    "sorted_dict_by_keys = dict(sorted(sample_dict.items()))\n",
    "\n",
    "print(\"Sorted by keys:\")\n",
    "for key, value in sorted_dict_by_keys.items():\n",
    "    print(f\"{key}: {value}\")"
   ]
  },
  {
   "cell_type": "code",
   "execution_count": 25,
   "id": "f3f52f7e",
   "metadata": {},
   "outputs": [
    {
     "name": "stdout",
     "output_type": "stream",
     "text": [
      "Sorted by values:\n",
      "banana: 1\n",
      "cherry: 2\n",
      "apple: 3\n",
      "date: 4\n"
     ]
    }
   ],
   "source": [
    "sample_dict = {'apple': 3, 'banana': 1, 'cherry': 2, 'date': 4}\n",
    "sorted_dict_by_values = dict(sorted(sample_dict.items(), key=lambda item: item[1]))\n",
    "print(\"Sorted by values:\")\n",
    "for key, value in sorted_dict_by_values.items():\n",
    "    print(f\"{key}: {value}\")"
   ]
  },
  {
   "cell_type": "code",
   "execution_count": 27,
   "id": "3a8bb84c",
   "metadata": {},
   "outputs": [
    {
     "name": "stdout",
     "output_type": "stream",
     "text": [
      "5\n"
     ]
    }
   ],
   "source": [
    "import math\n",
    "# Fixed values\n",
    "C = 50\n",
    "H = 30\n",
    "# Function to calculate Q\n",
    "def calculate_Q(D):\n",
    "    return int(math.sqrt((2 * C * D) / H))\n",
    "# Input comma-separated sequence of D values\n",
    "input_sequence = input(\"Enter comma-separated values of D: \")\n",
    "D_values = input_sequence.split(',')\n",
    "# Calculate and print Q for each D value\n",
    "result = [calculate_Q(int(D)) for D in D_values]\n",
    "print(','.join(map(str, result)))"
   ]
  },
  {
   "cell_type": "code",
   "execution_count": 31,
   "id": "d12eb544",
   "metadata": {},
   "outputs": [
    {
     "name": "stdout",
     "output_type": "stream",
     "text": [
      "[0, 0, 0, 0]\n",
      "[0, 1, 2, 3]\n",
      "[0, 2, 4, 6]\n"
     ]
    }
   ],
   "source": [
    "X, Y = map(int, input(\"Enter two digits (X, Y): \").split(','))\n",
    "# Initialize a 2D array filled with zeros\n",
    "array = [[0 for j in range(Y)] for i in range(X)]\n",
    "# Fill the array with values i * j\n",
    "for i in range(X):\n",
    "    for j in range(Y):\n",
    "        array[i][j] = i * j\n",
    "# Print the 2D array\n",
    "for row in array:\n",
    "    print(row)"
   ]
  },
  {
   "cell_type": "code",
   "execution_count": 33,
   "id": "3e253144",
   "metadata": {},
   "outputs": [
    {
     "name": "stdout",
     "output_type": "stream",
     "text": [
      "Sorted words:  and, i, like, pasta, pizza, world,hi\n"
     ]
    }
   ],
   "source": [
    "input_sequence = input(\"Enter a comma-separated sequence of words: \")\n",
    "# Split the input into a list of words\n",
    "words = input_sequence.split(',')\n",
    "# Sort the words alphabetically\n",
    "sorted_words = sorted(words)\n",
    "# Join the sorted words into a comma-separated sequence\n",
    "sorted_sequence = ','.join(sorted_words)\n",
    "# Print the sorted sequence\n",
    "print(\"Sorted words:\", sorted_sequence)"
   ]
  },
  {
   "cell_type": "code",
   "execution_count": 34,
   "id": "3790af09",
   "metadata": {},
   "outputs": [
    {
     "name": "stdout",
     "output_type": "stream",
     "text": [
      "Result: and, i, like, pasta, pizza, world,hi\n"
     ]
    }
   ],
   "source": [
    "input_sequence = input(\"Enter a sequence of whitespace-separated words: \")\n",
    "\n",
    "words = set(input_sequence.split())\n",
    "# Sort the unique words alphanumerically\n",
    "sorted_words = sorted(words)\n",
    "# Join the sorted words into a string with whitespace separation\n",
    "result = ' '.join(sorted_words)\n",
    "# Print the result\n",
    "print(\"Result:\", result)"
   ]
  },
  {
   "cell_type": "code",
   "execution_count": 38,
   "id": "ef9a626a",
   "metadata": {},
   "outputs": [
    {
     "name": "stdout",
     "output_type": "stream",
     "text": [
      "LETTERS 6\n",
      "DIGITS 5\n"
     ]
    }
   ],
   "source": [
    "sentence = input(\"Enter a sentence: \")\n",
    "# Initialize counters for letters and digits\n",
    "letter_count = 0\n",
    "digit_count = 0\n",
    "# Iterate through each character in the sentence\n",
    "for char in sentence:\n",
    "    if char.isalpha():\n",
    "        letter_count += 1\n",
    "    elif char.isdigit():\n",
    "        digit_count += 1\n",
    "# Print the results\n",
    "print(\"LETTERS\", letter_count)\n",
    "print(\"DIGITS\", digit_count)"
   ]
  },
  {
   "cell_type": "code",
   "execution_count": 42,
   "id": "ad85ecce",
   "metadata": {},
   "outputs": [
    {
     "name": "stdout",
     "output_type": "stream",
     "text": [
      "Bd1234@1\n"
     ]
    }
   ],
   "source": [
    "import re\n",
    "\n",
    "def is_valid_password(password):\n",
    "\n",
    "    if 6 <= len(password) <= 12:\n",
    "\n",
    "        if re.match(r\"^(?=.*[a-z])(?=.*[A-Z])(?=.*[0-9])(?=.*[$#@])\", password):\n",
    "            return True\n",
    "    return False\n",
    "\n",
    "passwords = input(\"Enter passwords separated by commas: \").split(',')\n",
    "\n",
    "valid_passwords = []\n",
    "\n",
    "for psw in passwords:\n",
    "    if is_valid_password(psw):\n",
    "        valid_passwords.append(psw)\n",
    "\n",
    "print(','.join(valid_passwords))"
   ]
  }
 ],
 "metadata": {
  "kernelspec": {
   "display_name": "datasci",
   "language": "python",
   "name": "python3"
  },
  "language_info": {
   "codemirror_mode": {
    "name": "ipython",
    "version": 3
   },
   "file_extension": ".py",
   "mimetype": "text/x-python",
   "name": "python",
   "nbconvert_exporter": "python",
   "pygments_lexer": "ipython3",
   "version": "3.13.5"
  }
 },
 "nbformat": 4,
 "nbformat_minor": 5
}
