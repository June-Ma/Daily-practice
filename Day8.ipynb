{
 "cells": [
  {
   "cell_type": "code",
   "execution_count": 5,
   "id": "6a9bd6ac",
   "metadata": {},
   "outputs": [
    {
     "name": "stdout",
     "output_type": "stream",
     "text": [
      "0\n",
      "7\n",
      "14\n",
      "21\n",
      "28\n",
      "35\n",
      "42\n",
      "49\n"
     ]
    }
   ],
   "source": [
    "class DivisibleBySeven:\n",
    "    def __init__(self,n):\n",
    "        self.n = n\n",
    "    \n",
    "    def generate_divisible_by_seven(self):\n",
    "        for num in range(self.n + 1):\n",
    "            if num%7== 0:\n",
    "                yield num\n",
    "\n",
    "n = int(input(\"Enter your desired range: \"))\n",
    "divisible_by_seven_generator = DivisibleBySeven(n).generate_divisible_by_seven()\n",
    "\n",
    "for num in divisible_by_seven_generator:\n",
    "    print(num)"
   ]
  },
  {
   "cell_type": "code",
   "execution_count": 8,
   "id": "9cddb17a",
   "metadata": {},
   "outputs": [
    {
     "name": "stdout",
     "output_type": "stream",
     "text": [
      "be:1\n",
      "change:1\n",
      "decide:1\n",
      "for:2\n",
      "have:1\n",
      "i'd:1\n",
      "i'll:2\n",
      "if:1\n",
      "it:2\n",
      "let:1\n",
      "me:1\n",
      "my:1\n",
      "never:2\n",
      "skin:1\n",
      "so:1\n",
      "somebody:1\n",
      "the:1\n",
      "why:1\n",
      "world:1\n"
     ]
    }
   ],
   "source": [
    "input_sentence = input(\"Enter a sentence: \")\n",
    "\n",
    "words = input_sentence.split()\n",
    "\n",
    "word_freq = {}\n",
    "\n",
    "for word in words:\n",
    "\n",
    "    word = word.strip('.,?')\n",
    "\n",
    "    word = word.lower()\n",
    "\n",
    "    if word in word_freq:\n",
    "        word_freq[word] += 1\n",
    "    else:\n",
    "        word_freq[word] = 1\n",
    "\n",
    "sorted_words = sorted(word_freq.items())\n",
    "\n",
    "for word, frequency in sorted_words:\n",
    "    print(f\"{word}:{frequency}\")"
   ]
  },
  {
   "cell_type": "code",
   "execution_count": 11,
   "id": "35d934f5",
   "metadata": {},
   "outputs": [
    {
     "name": "stdout",
     "output_type": "stream",
     "text": [
      "Unknown\n",
      "Male\n",
      "Female\n"
     ]
    }
   ],
   "source": [
    "class Person:\n",
    "    def getGender(self):\n",
    "        return \"Unknown\"\n",
    "class Male(Person):\n",
    "    def getGender(self):\n",
    "        return \"Male\"\n",
    "class Female(Person):\n",
    "    def getGender(self):\n",
    "        return \"Female\"\n",
    "\n",
    "person = Person()\n",
    "male = Male()\n",
    "female = Female()\n",
    "\n",
    "print(person.getGender())\n",
    "print(male.getGender())\n",
    "print(female.getGender())"
   ]
  },
  {
   "cell_type": "code",
   "execution_count": 12,
   "id": "38bf5d5e",
   "metadata": {},
   "outputs": [
    {
     "name": "stdout",
     "output_type": "stream",
     "text": [
      "I Play Hockey.\n",
      "I Play Football.\n",
      "I Love Hockey.\n",
      "I Love Football.\n",
      "You Play Hockey.\n",
      "You Play Football.\n",
      "You Love Hockey.\n",
      "You Love Football.\n"
     ]
    }
   ],
   "source": [
    "subjects = [\"I\", \"You\"]\n",
    "verbs = [\"Play\", \"Love\"]\n",
    "objects = [\"Hockey\", \"Football\"]\n",
    "\n",
    "sentences = []\n",
    "\n",
    "for sub in subjects:\n",
    "    for vrb in verbs:\n",
    "        for obj in objects:\n",
    "            sentence = f\"{sub} {vrb} {obj}.\"\n",
    "            sentences.append(sentence)\n",
    "for sentence in sentences:\n",
    "    print(sentence)"
   ]
  },
  {
   "cell_type": "code",
   "execution_count": 13,
   "id": "bfce9bef",
   "metadata": {},
   "outputs": [
    {
     "name": "stdout",
     "output_type": "stream",
     "text": [
      "Original String: hello world!hello world!hello world!hello world!\n",
      "Compressed String: b'x\\x9c\\xcbH\\xcd\\xc9\\xc9W(\\xcf/\\xcaIQ\\xcc \\x82\\r\\x00\\xbd[\\x11\\xf5'\n",
      "Decompressed String: hello world!hello world!hello world!hello world!\n"
     ]
    }
   ],
   "source": [
    "import zlib\n",
    "string = \"hello world!hello world!hello world!hello world!\"\n",
    "# Compress the string\n",
    "compressed_string = zlib.compress(string.encode())\n",
    "# Decompress the string\n",
    "decompressed_string = zlib.decompress(compressed_string).decode()\n",
    "print(\"Original String:\", string)\n",
    "print(\"Compressed String:\", compressed_string)\n",
    "print(\"Decompressed String:\", decompressed_string)"
   ]
  },
  {
   "cell_type": "code",
   "execution_count": null,
   "id": "35eceb39",
   "metadata": {},
   "outputs": [],
   "source": [
    "def binary_search(arr, target):\n",
    "    left, right = 0, len(arr) - 1\n",
    "    \n",
    "    while left <= right:\n",
    "        mid = (left + right) // 2\n",
    "    if arr[mid] == target:\n",
    "        return mid \n",
    "    elif arr[mid] < target:\n",
    "        left = mid + 1 \n",
    "    else:\n",
    "        right = mid - 1 \n",
    "        return -1 \n",
    "\n",
    "sorted_list = [1, 2, 3, 4, 5, 6, 7, 8, 9]\n",
    "target_element = 4\n",
    "result = binary_search(sorted_list, target_element)\n",
    "if result != -1:\n",
    "    print(f\"Element {target_element} found at index {result}\")\n",
    "else:\n",
    "    print(f\"Element {target_element} not found in the list\")"
   ]
  },
  {
   "cell_type": "code",
   "execution_count": 18,
   "id": "3acbff77",
   "metadata": {},
   "outputs": [
    {
     "name": "stdout",
     "output_type": "stream",
     "text": [
      "0,35,70\n"
     ]
    }
   ],
   "source": [
    "def divisible_by_5_and_7(n):\n",
    "    for num in range(n + 1):\n",
    "        if num % 5 == 0 and num % 7 == 0:\n",
    "            yield num\n",
    "\n",
    "try:\n",
    "    n = int(input(\"Enter a value for n: \"))\n",
    "    result = divisible_by_5_and_7(n)\n",
    "    print(','.join(map(str, result)))\n",
    "except ValueError:\n",
    "    print(\"Invalid input. Please enter a valid integer for n.\")"
   ]
  },
  {
   "cell_type": "code",
   "execution_count": 20,
   "id": "fb2e6c5e",
   "metadata": {},
   "outputs": [
    {
     "name": "stdout",
     "output_type": "stream",
     "text": [
      "0,2,4,6,8,10,12\n"
     ]
    }
   ],
   "source": [
    "def even_numbers(n):\n",
    "    for num in range(n + 1):\n",
    "        if num % 2 == 0:\n",
    "            yield num\n",
    "\n",
    "try:\n",
    "    n = int(input(\"Enter a value for n: \"))\n",
    "    result = even_numbers(n)\n",
    "    print(','.join(map(str, result)))\n",
    "except ValueError:\n",
    "    print(\"Invalid input. Please enter a valid integer for n.\")"
   ]
  },
  {
   "cell_type": "code",
   "execution_count": 23,
   "id": "fbeb62a7",
   "metadata": {},
   "outputs": [
    {
     "name": "stdout",
     "output_type": "stream",
     "text": [
      "0, 1, 1, 2, 3, 5, 8, 13, 21, 34, 55, 89\n"
     ]
    }
   ],
   "source": [
    "def fibonacci(n):\n",
    "    sequence = [0, 1]\n",
    "    for _ in range(2, n):\n",
    "        sequence.append(sequence[-1] + sequence[-2])\n",
    "    return sequence[:n]   \n",
    "\n",
    "try:\n",
    "    n = int(input(\"Enter a value for n: \"))\n",
    "    result = fibonacci(n)\n",
    "    print(', '.join(map(str, result)))\n",
    "except ValueError:\n",
    "    print(\"Invalid input. Please enter a valid integer for n.\")"
   ]
  },
  {
   "cell_type": "code",
   "execution_count": 25,
   "id": "cbd35f08",
   "metadata": {},
   "outputs": [
    {
     "name": "stdout",
     "output_type": "stream",
     "text": [
      "Lala.0923\n"
     ]
    }
   ],
   "source": [
    "def extract_username(email):\n",
    "\n",
    "    parts = email.split('@')\n",
    "\n",
    "    if len(parts) == 2:\n",
    "        return parts[0] \n",
    "    else:\n",
    "        return \"Invalid email format\"\n",
    "\n",
    "try:\n",
    "    email = input(\"Enter an email address: \")\n",
    "    username = extract_username(email)\n",
    "    print(username)\n",
    "except ValueError:\n",
    "    print(\"Invalid input. Please enter a valid email address.\")"
   ]
  },
  {
   "cell_type": "code",
   "execution_count": 27,
   "id": "c87563ea",
   "metadata": {},
   "outputs": [
    {
     "name": "stdout",
     "output_type": "stream",
     "text": [
      "Shape's area by default: 0\n",
      "Area of the square: 0\n"
     ]
    }
   ],
   "source": [
    "class Shape:\n",
    "    def __init__(self):\n",
    "        pass \n",
    "    def area(self):\n",
    "        return 0 \n",
    "class Square(Shape):\n",
    "    def __init__(self, length):\n",
    "        super().__init__() \n",
    "        self.length = length\n",
    "\n",
    "def area(self):\n",
    "    return self.length ** 2 \n",
    "\n",
    "\n",
    "shape = Shape()\n",
    "square = Square(float(input(\"Enter the shape of the square: \")))\n",
    "\n",
    "print(\"Shape's area by default:\", shape.area())\n",
    "print(\"Area of the square:\", square.area())"
   ]
  },
  {
   "cell_type": "code",
   "execution_count": 28,
   "id": "69784301",
   "metadata": {},
   "outputs": [
    {
     "name": "stdout",
     "output_type": "stream",
     "text": [
      "in... in... incredible?\n",
      "en... en... enthusiastic?\n",
      "ou... ou... outstanding?\n"
     ]
    }
   ],
   "source": [
    "def stutter(word):\n",
    "    if len(word) < 2:\n",
    "        return \"Word must be at least two characters long.\"\n",
    "    \n",
    "    stuttered_word = f\"{word[:2]}... {word[:2]}... {word}?\"\n",
    "    return stuttered_word\n",
    "\n",
    "print(stutter(\"incredible\"))\n",
    "print(stutter(\"enthusiastic\"))\n",
    "print(stutter(\"outstanding\"))"
   ]
  },
  {
   "cell_type": "code",
   "execution_count": 29,
   "id": "f396100d",
   "metadata": {},
   "outputs": [
    {
     "name": "stdout",
     "output_type": "stream",
     "text": [
      "57.3\n",
      "1145.9\n",
      "2864.8\n"
     ]
    }
   ],
   "source": [
    "import math\n",
    "def radians_to_degrees(radians):\n",
    "    degrees = radians * (180 / math.pi)\n",
    "    return round(degrees, 1)\n",
    "\n",
    "print(radians_to_degrees(1))\n",
    "print(radians_to_degrees(20))\n",
    "print(radians_to_degrees(50))"
   ]
  },
  {
   "cell_type": "code",
   "execution_count": 30,
   "id": "a750b298",
   "metadata": {},
   "outputs": [
    {
     "name": "stdout",
     "output_type": "stream",
     "text": [
      "True\n",
      "False\n",
      "True\n"
     ]
    }
   ],
   "source": [
    "def is_curzon(num):\n",
    "    numerator = 2 ** num + 1\n",
    "    denominator = 2 * num + 1\n",
    "    return numerator % denominator == 0\n",
    "\n",
    "print(is_curzon(5))\n",
    "print(is_curzon(10))\n",
    "print(is_curzon(14))"
   ]
  },
  {
   "cell_type": "code",
   "execution_count": 31,
   "id": "9537aa02",
   "metadata": {},
   "outputs": [
    {
     "name": "stdout",
     "output_type": "stream",
     "text": [
      "2.6\n",
      "10.4\n",
      "23.4\n"
     ]
    }
   ],
   "source": [
    "import math\n",
    "\n",
    "def area_of_hexagon(x):\n",
    "    area = (3 * math.sqrt(3) * x**2) / 2\n",
    "    return round(area, 1)\n",
    "\n",
    "print(area_of_hexagon(1))\n",
    "print(area_of_hexagon(2))\n",
    "print(area_of_hexagon(3))"
   ]
  },
  {
   "cell_type": "code",
   "execution_count": 34,
   "id": "c1989377",
   "metadata": {},
   "outputs": [
    {
     "name": "stdout",
     "output_type": "stream",
     "text": [
      "1\n",
      "1000\n",
      "1110\n"
     ]
    }
   ],
   "source": [
    "def binary(decimal):\n",
    "    binary_str = \"\"\n",
    "    while decimal > 0:\n",
    "        remainder = decimal % 2\n",
    "        binary_str = str(remainder) + binary_str\n",
    "        decimal = decimal // 2\n",
    "    return binary_str if binary_str else \"0\"\n",
    "\n",
    "print(binary(1))\n",
    "print(binary(8))\n",
    "print(binary(14))"
   ]
  },
  {
   "cell_type": "code",
   "execution_count": 35,
   "id": "cf8ce0c2",
   "metadata": {},
   "outputs": [
    {
     "name": "stdout",
     "output_type": "stream",
     "text": [
      "0\n",
      "30\n",
      "18\n"
     ]
    }
   ],
   "source": [
    "def evenly_divisible(a, b, c):\n",
    "    total = 0\n",
    "    for num in range(a, b + 1):\n",
    "        if num % c == 0:\n",
    "            total += num\n",
    "    return total\n",
    "\n",
    "print(evenly_divisible(1, 10, 20))\n",
    "print(evenly_divisible(1, 10, 2))\n",
    "print(evenly_divisible(1, 10, 3))"
   ]
  },
  {
   "cell_type": "code",
   "execution_count": 36,
   "id": "11dc06aa",
   "metadata": {},
   "outputs": [
    {
     "name": "stdout",
     "output_type": "stream",
     "text": [
      "True\n",
      "False\n",
      "True\n"
     ]
    }
   ],
   "source": [
    "def correct_signs(expression):\n",
    "    try:\n",
    "        return eval(expression)\n",
    "    except:\n",
    "        return False\n",
    "\n",
    "print(correct_signs(\"3 < 7 < 11\"))\n",
    "print(correct_signs(\"13 > 44 > 33 < 1\"))\n",
    "print(correct_signs(\"1 < 2 < 6 < 9 > 3\"))"
   ]
  },
  {
   "cell_type": "code",
   "execution_count": 37,
   "id": "df92f089",
   "metadata": {},
   "outputs": [
    {
     "name": "stdout",
     "output_type": "stream",
     "text": [
      "th# ##rdv#rk\n",
      "m?nn?? m??s?\n",
      "sh*k*sp**r*\n"
     ]
    }
   ],
   "source": [
    "def replace_vowels(string, char):\n",
    "    vowels = \"AEIOUaeiou\" # List of vowels to be replaced\n",
    "    for vowel in vowels:\n",
    "        string = string.replace(vowel, char) # Replace each vowel with\n",
    "    return string\n",
    "\n",
    "print(replace_vowels(\"the aardvark\", \"#\"))\n",
    "print(replace_vowels(\"minnie mouse\", \"?\"))\n",
    "print(replace_vowels(\"shakespeare\", \"*\"))"
   ]
  },
  {
   "cell_type": "code",
   "execution_count": 38,
   "id": "70de672d",
   "metadata": {},
   "outputs": [
    {
     "name": "stdout",
     "output_type": "stream",
     "text": [
      "120\n",
      "6\n",
      "1\n",
      "1\n"
     ]
    }
   ],
   "source": [
    "def factorial(n):\n",
    "    if n == 0:\n",
    "        return 1 \n",
    "    else:\n",
    "        return n * factorial(n - 1) \n",
    "\n",
    "print(factorial(5))\n",
    "print(factorial(3))\n",
    "print(factorial(1))\n",
    "print(factorial(0))"
   ]
  },
  {
   "cell_type": "code",
   "execution_count": 42,
   "id": "cb0fdb6b",
   "metadata": {},
   "outputs": [
    {
     "name": "stdout",
     "output_type": "stream",
     "text": [
      "5\n",
      "0\n",
      "1\n"
     ]
    }
   ],
   "source": [
    "def hamming_distance(str1, str2):\n",
    "\n",
    "    if len(str1) != len(str2):\n",
    "        raise ValueError(\"Input strings must have the same length\")\n",
    "\n",
    "    distance = 0\n",
    "\n",
    "    for i in range(len(str1)):\n",
    "        if str1[i] != str2[i]:\n",
    "            distance += 1 \n",
    "    return distance\n",
    "\n",
    "print(hamming_distance(\"abcde\", \"bcdef\"))\n",
    "print(hamming_distance(\"abcde\", \"abcde\"))\n",
    "print(hamming_distance(\"strong\", \"strung\"))"
   ]
  },
  {
   "cell_type": "code",
   "execution_count": 43,
   "id": "8508591a",
   "metadata": {},
   "outputs": [
    {
     "data": {
      "text/plain": [
       "[1, 2, 123]"
      ]
     },
     "execution_count": 43,
     "metadata": {},
     "output_type": "execute_result"
    }
   ],
   "source": [
    "def filter_list(lst):\n",
    "# Initialize an empty list to store non-string elements\n",
    "    result = []\n",
    "# Iterate through the elements in the input list\n",
    "    for element in lst:\n",
    "# Check if the element is a non-negative integer (not a string)\n",
    "        if isinstance(element, int) and element >= 0:\n",
    "            result.append(element)\n",
    "    return result\n",
    "\n",
    "filter_list([1, 2, \"aasf\", \"1\", \"123\", 123])"
   ]
  },
  {
   "cell_type": "code",
   "execution_count": 44,
   "id": "01b5d035",
   "metadata": {},
   "outputs": [
    {
     "data": {
      "text/plain": [
       "'DLROw OLLEh'"
      ]
     },
     "execution_count": 44,
     "metadata": {},
     "output_type": "execute_result"
    }
   ],
   "source": [
    "def reverse(input_str):\n",
    "# Reverse the string and swap the case of characters\n",
    "    reversed_str = input_str[::-1].swapcase()\n",
    "    return reversed_str\n",
    "\n",
    "reverse(\"Hello World\")"
   ]
  },
  {
   "cell_type": "code",
   "execution_count": 48,
   "id": "f606d9d0",
   "metadata": {},
   "outputs": [
    {
     "data": {
      "text/plain": [
       "[2, 3, 4, 5]"
      ]
     },
     "execution_count": 48,
     "metadata": {},
     "output_type": "execute_result"
    }
   ],
   "source": [
    "writeyourcodehere = [1, 2, 3, 4, 5, 6]\n",
    "\n",
    "first, *middle, last = writeyourcodehere\n",
    "\n",
    "middle\n"
   ]
  },
  {
   "cell_type": "code",
   "execution_count": 49,
   "id": "308f55f9",
   "metadata": {},
   "outputs": [
    {
     "data": {
      "text/plain": [
       "120"
      ]
     },
     "execution_count": 49,
     "metadata": {},
     "output_type": "execute_result"
    }
   ],
   "source": [
    "def factorial(n):\n",
    "    if n == 0:\n",
    "        return 1 # Base case: factorial of 0 is 1\n",
    "    else:\n",
    "        return n * factorial(n - 1)\n",
    "    \n",
    "factorial(5)"
   ]
  },
  {
   "cell_type": "code",
   "execution_count": 50,
   "id": "2d089fe7",
   "metadata": {},
   "outputs": [
    {
     "data": {
      "text/plain": [
       "[7, 8, 1, 2, 3, 4, 9]"
      ]
     },
     "execution_count": 50,
     "metadata": {},
     "output_type": "execute_result"
    }
   ],
   "source": [
    "def move_to_end(lst, element):\n",
    "# Initialize a count for the specified element\n",
    "    count = lst.count(element)\n",
    "# Remove all occurrences of the element from the list\n",
    "    lst = [x for x in lst if x != element]\n",
    "# Append the element to the end of the list count times\n",
    "    lst.extend([element] * count)\n",
    "    \n",
    "    return lst\n",
    "\n",
    "move_to_end([7, 8, 9, 1, 2, 3, 4], 9)"
   ]
  },
  {
   "cell_type": "code",
   "execution_count": 51,
   "id": "3e0555b4",
   "metadata": {},
   "outputs": [
    {
     "data": {
      "text/plain": [
       "'HHeellllooww  WWoorrlldd!!'"
      ]
     },
     "execution_count": 51,
     "metadata": {},
     "output_type": "execute_result"
    }
   ],
   "source": [
    "def double_char(input_str):\n",
    "    doubled_str = \"\"\n",
    "    \n",
    "    for char in input_str:\n",
    "        doubled_str += char * 2\n",
    "    \n",
    "    return doubled_str\n",
    "\n",
    "double_char(\"Hellow World!\")"
   ]
  },
  {
   "cell_type": "code",
   "execution_count": 52,
   "id": "0e954db3",
   "metadata": {},
   "outputs": [
    {
     "data": {
      "text/plain": [
       "False"
      ]
     },
     "execution_count": 52,
     "metadata": {},
     "output_type": "execute_result"
    }
   ],
   "source": [
    "def reverse(value):\n",
    "    if isinstance(value, bool):\n",
    "        return not value\n",
    "    else:\n",
    "        return \"boolean expected\"\n",
    "\n",
    "reverse(True)"
   ]
  },
  {
   "cell_type": "code",
   "execution_count": 53,
   "id": "babd76d7",
   "metadata": {},
   "outputs": [
    {
     "data": {
      "text/plain": [
       "'0.008m'"
      ]
     },
     "execution_count": 53,
     "metadata": {},
     "output_type": "execute_result"
    }
   ],
   "source": [
    "def num_layers(n):\n",
    "    initial_thickness_mm = 0.5 # Initial thickness in millimeters\n",
    "    final_thickness_mm = initial_thickness_mm * (2 ** n)\n",
    "    final_thickness_m = final_thickness_mm / 1000 # Convert millimeter\n",
    "    return f\"{final_thickness_m:.3f}m\"\n",
    "\n",
    "num_layers(4)"
   ]
  },
  {
   "cell_type": "code",
   "execution_count": 54,
   "id": "ebc9709f",
   "metadata": {},
   "outputs": [
    {
     "data": {
      "text/plain": [
       "[1, 3, 5]"
      ]
     },
     "execution_count": 54,
     "metadata": {},
     "output_type": "execute_result"
    }
   ],
   "source": [
    "def index_of_caps(word):\n",
    "# Use list comprehension to find indices of capital letters\n",
    "    return [i for i, char in enumerate(word) if char.isupper()]\n",
    "\n",
    "index_of_caps(\"eDaBiT\")"
   ]
  }
 ],
 "metadata": {
  "kernelspec": {
   "display_name": "datasci",
   "language": "python",
   "name": "python3"
  },
  "language_info": {
   "codemirror_mode": {
    "name": "ipython",
    "version": 3
   },
   "file_extension": ".py",
   "mimetype": "text/x-python",
   "name": "python",
   "nbconvert_exporter": "python",
   "pygments_lexer": "ipython3",
   "version": "3.13.5"
  }
 },
 "nbformat": 4,
 "nbformat_minor": 5
}
