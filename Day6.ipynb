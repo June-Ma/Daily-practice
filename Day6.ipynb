{
 "cells": [
  {
   "cell_type": "code",
   "execution_count": 1,
   "id": "2da2ed6d",
   "metadata": {},
   "outputs": [
    {
     "name": "stdout",
     "output_type": "stream",
     "text": [
      "The cube sum of the first 7 natural numbers is: 784\n"
     ]
    }
   ],
   "source": [
    "def cube_sum_of_natural_numbers(n):\n",
    "    if n <= 0:\n",
    "        return 0\n",
    "    else:\n",
    "        total = sum([i**3 for i in range(1, n + 1)])\n",
    "        return total\n",
    "\n",
    "n = int(input(\"Enter the value of n: \"))\n",
    "if n <= 0:\n",
    "    print(\"Please enter a positive integer.\")\n",
    "else:\n",
    "    result = cube_sum_of_natural_numbers(n)\n",
    "    print(f\"The cube sum of the first {n} natural numbers is: {result}\")"
   ]
  },
  {
   "cell_type": "code",
   "execution_count": 3,
   "id": "187c3078",
   "metadata": {},
   "outputs": [
    {
     "name": "stdout",
     "output_type": "stream",
     "text": [
      "Sum of the array is  6\n"
     ]
    }
   ],
   "source": [
    "arr = [1,2,3]\n",
    "ans = sum(arr)\n",
    "print('Sum of the array is ', ans)"
   ]
  },
  {
   "cell_type": "code",
   "execution_count": null,
   "id": "231c8cec",
   "metadata": {},
   "outputs": [
    {
     "name": "stdout",
     "output_type": "stream",
     "text": [
      "Sum of the array: 6\n"
     ]
    }
   ],
   "source": [
    "def sum_of_array(arr):\n",
    "    total = 0 \n",
    "    for element in arr:\n",
    "        total += element \n",
    "    return total\n",
    "\n",
    "array = [1, 2, 3]\n",
    "result = sum_of_array(array)\n",
    "print(\"Sum of the array:\", result)"
   ]
  },
  {
   "cell_type": "code",
   "execution_count": 10,
   "id": "8ce98e5f",
   "metadata": {},
   "outputs": [
    {
     "name": "stdout",
     "output_type": "stream",
     "text": [
      "The largest element in the array is: 99\n"
     ]
    }
   ],
   "source": [
    "def find_largest_element(arr):\n",
    "    if not arr:\n",
    "        return \"Array is empty\"\n",
    "    largest_element = arr[0]\n",
    "    for element in arr:\n",
    "        if element > largest_element:\n",
    "            largest_element = element\n",
    "    return largest_element\n",
    "my_array = [10, 20, 30, 99]\n",
    "result = find_largest_element(my_array)\n",
    "print(f\"The largest element in the array is: {result}\")"
   ]
  },
  {
   "cell_type": "code",
   "execution_count": 13,
   "id": "080b5260",
   "metadata": {},
   "outputs": [
    {
     "name": "stdout",
     "output_type": "stream",
     "text": [
      "Original Array: [3, 4, 5, 6, 7]\n",
      "Rotated Array: [5, 6, 7, 3, 4]\n"
     ]
    }
   ],
   "source": [
    "def rotate_array(arr, d):\n",
    "    n = len(arr)\n",
    "\n",
    "    if d < 0 or d >= n:\n",
    "        return \"Invalid rotation value\"\n",
    "\n",
    "    rotated_arr = [0] * n\n",
    "\n",
    "    for i in range(n):\n",
    "        rotated_arr[i] = arr[(i + d) % n]\n",
    "    \n",
    "    return rotated_arr\n",
    "\n",
    "arr = [3, 4, 5, 6, 7]\n",
    "\n",
    "d = 2\n",
    "\n",
    "result = rotate_array(arr, d)\n",
    "\n",
    "print(\"Original Array:\", arr)\n",
    "print(\"Rotated Array:\", result)"
   ]
  },
  {
   "cell_type": "code",
   "execution_count": 15,
   "id": "0f1865dd",
   "metadata": {},
   "outputs": [
    {
     "name": "stdout",
     "output_type": "stream",
     "text": [
      "Original Array: [1, 2, 3, 4, 5]\n",
      "Array after splitting and adding: [4, 5, 1, 2, 3]\n"
     ]
    }
   ],
   "source": [
    "def split_and_add(arr, k):\n",
    "    if k <= 0 or k>= len(arr):\n",
    "        return arr\n",
    "\n",
    "    first_part = arr[:k]\n",
    "    second_part = arr[k:]\n",
    "\n",
    "    result = second_part + first_part\n",
    "\n",
    "    return result\n",
    "\n",
    "arr = [1, 2, 3, 4, 5]\n",
    "k = 3\n",
    "result = split_and_add(arr, k)\n",
    "print(\"Original Array:\", arr)\n",
    "print(\"Array after splitting and adding:\", result)"
   ]
  },
  {
   "cell_type": "code",
   "execution_count": 16,
   "id": "02eb5e1a",
   "metadata": {},
   "outputs": [
    {
     "name": "stdout",
     "output_type": "stream",
     "text": [
      "arr1 is monotonic: True\n",
      "arr2 is monotonic: True\n",
      "arr3 is monotonic: False\n"
     ]
    }
   ],
   "source": [
    "def is_monotonic(arr):\n",
    "    increasing = decreasing = True\n",
    "    for i in range(1, len(arr)):\n",
    "        if arr[i] > arr[i - 1]:\n",
    "            decreasing = False\n",
    "        elif arr[i] < arr[i - 1]:\n",
    "            increasing = False\n",
    "    return increasing or decreasing\n",
    "\n",
    "arr1 = [1, 2, 2, 3] # Monotonic (non-decreasing)\n",
    "arr2 = [3, 2, 1] # Monotonic (non-increasing)\n",
    "arr3 = [1, 3, 2, 4] # Not monotonic\n",
    "\n",
    "print(\"arr1 is monotonic:\", is_monotonic(arr1))\n",
    "print(\"arr2 is monotonic:\", is_monotonic(arr2))\n",
    "print(\"arr3 is monotonic:\", is_monotonic(arr3))"
   ]
  },
  {
   "cell_type": "code",
   "execution_count": 17,
   "id": "e29a16cc",
   "metadata": {},
   "outputs": [
    {
     "name": "stdout",
     "output_type": "stream",
     "text": [
      "Sum of matrices:\n",
      "[10, 10, 10]\n",
      "[10, 10, 10]\n",
      "[10, 10, 10]\n"
     ]
    }
   ],
   "source": [
    "def add_matrices(mat1, mat2):\n",
    "\n",
    "    if len(mat1) != len(mat2) or len(mat1[0]) != len(mat2[0]):\n",
    "        return \"Matrices must have the same dimensions for addition\"\n",
    "# Initialize an empty result matrix with the same dimensions\n",
    "    result = []\n",
    "    for i in range(len(mat1)):\n",
    "        row = []\n",
    "        for j in range(len(mat1[0])):\n",
    "            row.append(mat1[i][j] + mat2[i][j])\n",
    "        result.append(row)\n",
    "    return result\n",
    "\n",
    "matrix1 = [\n",
    "    [1, 2, 3],\n",
    "    [4, 5, 6],\n",
    "    [7, 8, 9]\n",
    "]\n",
    "matrix2 = [\n",
    "    [9, 8, 7],\n",
    "    [6, 5, 4],\n",
    "    [3, 2, 1]\n",
    "]\n",
    "\n",
    "result_matrix = add_matrices(matrix1, matrix2)\n",
    "\n",
    "if isinstance(result_matrix, str):\n",
    "    print(result_matrix)\n",
    "else:\n",
    "    print(\"Sum of matrices:\")\n",
    "    for row in result_matrix:\n",
    "        print(row)"
   ]
  },
  {
   "cell_type": "code",
   "execution_count": 18,
   "id": "bcdddc38",
   "metadata": {},
   "outputs": [
    {
     "name": "stdout",
     "output_type": "stream",
     "text": [
      "Result of matrix multiplication:\n",
      "[58, 64]\n",
      "[139, 154]\n"
     ]
    }
   ],
   "source": [
    "def multiply_matrices(mat1, mat2):\n",
    "    rows1 = len(mat1)\n",
    "    cols1 = len(mat1[0])\n",
    "    rows2 = len(mat2)\n",
    "    cols2 = len(mat2[0])\n",
    "\n",
    "    if cols1 != rows2:\n",
    "        return \"Matrix multiplication is not possible. Number of column\"\n",
    "\n",
    "    result = [[0 for _ in range(cols2)] for _ in range(rows1)]\n",
    "\n",
    "    for i in range(rows1):\n",
    "        for j in range(cols2):\n",
    "            for k in range(cols1):\n",
    "                result[i][j] += mat1[i][k] * mat2[k][j]\n",
    "\n",
    "    return result\n",
    "\n",
    "matrix1 = [[1, 2, 3],\n",
    "            [4, 5, 6]]\n",
    "matrix2 = [[7, 8],\n",
    "            [9, 10],\n",
    "            [11, 12]]\n",
    "# Multiply the matrices\n",
    "result_matrix = multiply_matrices(matrix1, matrix2)\n",
    "# Display the result\n",
    "if isinstance(result_matrix, str):\n",
    "    print(result_matrix)\n",
    "else:\n",
    "    print(\"Result of matrix multiplication:\")\n",
    "    for row in result_matrix:\n",
    "        print(row)"
   ]
  },
  {
   "cell_type": "code",
   "execution_count": 19,
   "id": "79a5d9f2",
   "metadata": {},
   "outputs": [
    {
     "name": "stdout",
     "output_type": "stream",
     "text": [
      "[1, 4]\n",
      "[2, 5]\n",
      "[3, 6]\n"
     ]
    }
   ],
   "source": [
    "def transpose_matrix(matrix):\n",
    "    rows, cols = len(matrix), len(matrix[0])\n",
    "\n",
    "    result = [[0 for _ in range(rows)] for _ in range(cols)]\n",
    "\n",
    "    for i in range(rows):\n",
    "        for j in range(cols):\n",
    "            result[j][i] = matrix[i][j]\n",
    "    return result\n",
    "\n",
    "matrix = [\n",
    "    [1, 2, 3],\n",
    "    [4, 5, 6]\n",
    "]\n",
    "\n",
    "transposed_matrix = transpose_matrix(matrix)\n",
    "\n",
    "for row in transposed_matrix:\n",
    "    print(row)"
   ]
  },
  {
   "cell_type": "code",
   "execution_count": 20,
   "id": "ab293e07",
   "metadata": {},
   "outputs": [
    {
     "name": "stdout",
     "output_type": "stream",
     "text": [
      "The sorted words are:\n",
      "Apple\n",
      "Hay\n",
      "Horse\n",
      "Lollipop\n",
      "Meat\n",
      "String\n",
      "Tiger\n",
      "Watermelon\n"
     ]
    }
   ],
   "source": [
    "my_str = input(\"Enter a string: \")\n",
    "\n",
    "words = [word.capitalize() for word in my_str.split()]\n",
    "\n",
    "words.sort()\n",
    "\n",
    "print(\"The sorted words are:\")\n",
    "for word in words:\n",
    "    print(word)"
   ]
  },
  {
   "cell_type": "code",
   "execution_count": 23,
   "id": "bb16c90c",
   "metadata": {},
   "outputs": [
    {
     "name": "stderr",
     "output_type": "stream",
     "text": [
      "<>:1: SyntaxWarning: invalid escape sequence '\\,'\n",
      "<>:1: SyntaxWarning: invalid escape sequence '\\,'\n",
      "/var/folders/hs/618gjhmj7ll5b41kn672bbmr0000gn/T/ipykernel_13256/1133824523.py:1: SyntaxWarning: invalid escape sequence '\\,'\n",
      "  punctuations = '''!()-[]{};:'\"\\,<>./?@#$%^&*_~'''\n"
     ]
    },
    {
     "name": "stdout",
     "output_type": "stream",
     "text": [
      "Hello world Nice to meet you \n"
     ]
    }
   ],
   "source": [
    "punctuations = '''!()-[]{};:'\"\\,<>./?@#$%^&*_~'''\n",
    "\n",
    "my_str = input(\"Enter a string: \")\n",
    "no_punct = \"\"\n",
    "for char in my_str:\n",
    "    if char not in punctuations:\n",
    "        no_punct = no_punct + char\n",
    "\n",
    "print(no_punct)"
   ]
  },
  {
   "cell_type": "code",
   "execution_count": 42,
   "id": "24976266",
   "metadata": {},
   "outputs": [
    {
     "name": "stdout",
     "output_type": "stream",
     "text": [
      "598 is a Disarium number.\n"
     ]
    }
   ],
   "source": [
    "def is_disarium(number):\n",
    "    num_str = str(number)\n",
    "\n",
    "    digit_sum = sum(int(i) ** (index +1) for index, i in enumerate(num_str))\n",
    "\n",
    "    return digit_sum == number\n",
    "\n",
    "try:\n",
    "    num = int(input(\"Enter a number: \"))\n",
    "\n",
    "    if is_disarium(num):\n",
    "        print(f\"{num} is a Disarium number.\")\n",
    "    else:\n",
    "        print(f\"{num} is not a Disarium number.\")\n",
    "\n",
    "except ValueError:\n",
    "    print(\"Invalid pinput. Please enter a valid number.\")"
   ]
  },
  {
   "cell_type": "code",
   "execution_count": 41,
   "id": "cbfb184b",
   "metadata": {},
   "outputs": [
    {
     "name": "stdout",
     "output_type": "stream",
     "text": [
      "Disarium numbers between 1 and 1000:\n",
      "1 | 2 | 3 | 4 | 5 | 6 | 7 | 8 | 9 | 89 | 135 | 175 | 518 | 598 | "
     ]
    }
   ],
   "source": [
    "def is_disarium(num):\n",
    "    num_str = str(num)\n",
    "    digit_sum = sum(int(i) ** (index +1) for index, i in enumerate(num_str))\n",
    "    return num == digit_sum\n",
    "\n",
    "disarium_numbers = [num for num in range(1, 1001) if is_disarium(num)]\n",
    "\n",
    "print(\"Disarium numbers between 1 and 1000:\")\n",
    "for num in disarium_numbers:\n",
    "    print(num, end=\" | \")"
   ]
  },
  {
   "cell_type": "code",
   "execution_count": 46,
   "id": "104baaf6",
   "metadata": {},
   "outputs": [
    {
     "name": "stdout",
     "output_type": "stream",
     "text": [
      "19 is a Happy Number\n"
     ]
    }
   ],
   "source": [
    "def is_happy_number(num):\n",
    "    seen = set()\n",
    "    \n",
    "    while num != 1 and num not in seen:\n",
    "        seen.add(num)\n",
    "        num = sum(int(i) ** 2 for i in str(num))\n",
    "\n",
    "    return num == 1\n",
    "\n",
    "num = int(input(\"Enter a number: \"))\n",
    "if is_happy_number(num):\n",
    "    print(f\"{num} is a Happy Number\")\n",
    "else:\n",
    "    print(f\"{num} is not a Happy Number\")"
   ]
  },
  {
   "cell_type": "code",
   "execution_count": 47,
   "id": "65d3f282",
   "metadata": {},
   "outputs": [
    {
     "name": "stdout",
     "output_type": "stream",
     "text": [
      "Happy Numbers between 1 and 100:\n",
      "[1, 7, 10, 13, 19, 23, 28, 31, 32, 44, 49, 68, 70, 79, 82, 86, 91, 94, 97, 100]\n"
     ]
    }
   ],
   "source": [
    "def is_happy_number(num):\n",
    "    seen = set()\n",
    "    \n",
    "    while num != 1 and num not in seen:\n",
    "        seen.add(num)\n",
    "        num = sum(int(i) ** 2 for i in str(num))\n",
    "\n",
    "    return num == 1\n",
    "    \n",
    "happy_numbers = []\n",
    "\n",
    "for num in range(1, 101):\n",
    "    if is_happy_number(num):\n",
    "        happy_numbers.append(num)\n",
    "\n",
    "print(\"Happy Numbers between 1 and 100:\")\n",
    "print(happy_numbers)"
   ]
  },
  {
   "cell_type": "code",
   "execution_count": 52,
   "id": "6c4869be",
   "metadata": {},
   "outputs": [
    {
     "name": "stdout",
     "output_type": "stream",
     "text": [
      "48 is a Harshad Number.\n"
     ]
    }
   ],
   "source": [
    "def is_harshad_number(num):\n",
    "\n",
    "    digit_sum = sum(int(i) for i in str(num))\n",
    "\n",
    "    return num % digit_sum == 0\n",
    "\n",
    "num = int(input(\"Enter a number: \"))\n",
    "\n",
    "if is_harshad_number(num):\n",
    "    print(f\"{num} is a Harshad Number.\")\n",
    "else:\n",
    "    print(f\"{num} is not a Harshad Number.\")"
   ]
  },
  {
   "cell_type": "code",
   "execution_count": 62,
   "id": "40ee0468",
   "metadata": {},
   "outputs": [
    {
     "name": "stdout",
     "output_type": "stream",
     "text": [
      "Pronic numbers between 1 and 100 are:\n",
      "2 | "
     ]
    }
   ],
   "source": [
    "def is_pronic_number(num):\n",
    "    for n in range(1, int(num**0.5) + 1):\n",
    "        if n * (n + 1) == num:\n",
    "            return True\n",
    "        return False\n",
    "\n",
    "print(\"Pronic numbers between 1 and 100 are:\")\n",
    "for i in range(1, 101):\n",
    "    if is_pronic_number(i):\n",
    "        print(i, end=\" | \")"
   ]
  },
  {
   "cell_type": "code",
   "execution_count": 63,
   "id": "9b3f4a5e",
   "metadata": {},
   "outputs": [
    {
     "name": "stdout",
     "output_type": "stream",
     "text": [
      "Sum of elements in the list: 150\n"
     ]
    }
   ],
   "source": [
    "numbers = [10, 20, 30, 40, 50]\n",
    "\n",
    "sum_of_numbers = 0\n",
    "\n",
    "for i in numbers:\n",
    "    sum_of_numbers += i\n",
    "\n",
    "print(\"Sum of elements in the list:\", sum_of_numbers)"
   ]
  },
  {
   "cell_type": "code",
   "execution_count": 64,
   "id": "68a6de56",
   "metadata": {},
   "outputs": [
    {
     "name": "stdout",
     "output_type": "stream",
     "text": [
      "Product of elements in the list: 12000000\n"
     ]
    }
   ],
   "source": [
    "numbers = [10, 20, 30, 40, 50]\n",
    "\n",
    "product_of_numbers = 1\n",
    "\n",
    "for i in numbers:\n",
    "    product_of_numbers *= i\n",
    "\n",
    "print(\"Product of elements in the list:\", product_of_numbers)"
   ]
  }
 ],
 "metadata": {
  "kernelspec": {
   "display_name": "datasci",
   "language": "python",
   "name": "python3"
  },
  "language_info": {
   "codemirror_mode": {
    "name": "ipython",
    "version": 3
   },
   "file_extension": ".py",
   "mimetype": "text/x-python",
   "name": "python",
   "nbconvert_exporter": "python",
   "pygments_lexer": "ipython3",
   "version": "3.13.5"
  }
 },
 "nbformat": 4,
 "nbformat_minor": 5
}
